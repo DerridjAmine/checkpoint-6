{
 "cells": [
  {
   "cell_type": "code",
   "execution_count": 1,
   "id": "9502152f",
   "metadata": {},
   "outputs": [],
   "source": [
    "#question 1\n",
    "import numpy as np"
   ]
  },
  {
   "cell_type": "code",
   "execution_count": 2,
   "id": "6d5ddddb",
   "metadata": {},
   "outputs": [],
   "source": [
    "new_array=np.array([[1,2,3],[4,5,6]])"
   ]
  },
  {
   "cell_type": "code",
   "execution_count": 3,
   "id": "8fa89ea6",
   "metadata": {},
   "outputs": [],
   "source": [
    "l=new_array.tolist()"
   ]
  },
  {
   "cell_type": "code",
   "execution_count": 4,
   "id": "59549438",
   "metadata": {},
   "outputs": [
    {
     "name": "stdout",
     "output_type": "stream",
     "text": [
      "[[1, 2, 3], [4, 5, 6]]\n"
     ]
    }
   ],
   "source": [
    "print(l)"
   ]
  },
  {
   "cell_type": "code",
   "execution_count": 5,
   "id": "116d9934",
   "metadata": {},
   "outputs": [
    {
     "name": "stdout",
     "output_type": "stream",
     "text": [
      "[[1 2 3]\n",
      " [4 5 6]]\n"
     ]
    }
   ],
   "source": [
    "print(new_array)"
   ]
  },
  {
   "cell_type": "code",
   "execution_count": 6,
   "id": "69c628f5",
   "metadata": {},
   "outputs": [
    {
     "name": "stdout",
     "output_type": "stream",
     "text": [
      "15\n"
     ]
    }
   ],
   "source": [
    "#question 2 \n",
    "import numpy as np\n",
    "new_array=np.array([[1,2,3],[4,5,6],[7,8,9]])\n",
    "l=new_array.trace()\n",
    "print(l)"
   ]
  },
  {
   "cell_type": "code",
   "execution_count": 7,
   "id": "b3387843",
   "metadata": {},
   "outputs": [
    {
     "ename": "ValueError",
     "evalue": "The truth value of an array with more than one element is ambiguous. Use a.any() or a.all()",
     "output_type": "error",
     "traceback": [
      "\u001b[1;31m---------------------------------------------------------------------------\u001b[0m",
      "\u001b[1;31mValueError\u001b[0m                                Traceback (most recent call last)",
      "Input \u001b[1;32mIn [7]\u001b[0m, in \u001b[0;36m<cell line: 4>\u001b[1;34m()\u001b[0m\n\u001b[0;32m      3\u001b[0m x\u001b[38;5;241m=\u001b[39m\u001b[38;5;241m2\u001b[39m\n\u001b[0;32m      4\u001b[0m \u001b[38;5;28;01mfor\u001b[39;00m i \u001b[38;5;129;01min\u001b[39;00m array:\n\u001b[1;32m----> 5\u001b[0m     \u001b[38;5;28;01mif\u001b[39;00m \u001b[43mx\u001b[49m\u001b[38;5;241;43m<\u001b[39;49m\u001b[43mi\u001b[49m:\n\u001b[0;32m      6\u001b[0m         arr\u001b[38;5;241m=\u001b[39marr\u001b[38;5;241m+\u001b[39mi\n\u001b[0;32m      7\u001b[0m \u001b[38;5;28mprint\u001b[39m(arr)\n",
      "\u001b[1;31mValueError\u001b[0m: The truth value of an array with more than one element is ambiguous. Use a.any() or a.all()"
     ]
    }
   ],
   "source": [
    "import numpy as np\n",
    "array=np.array([[1,2,3],[4,5,6]])\n",
    "x=2\n",
    "for i in array:\n",
    "    if x<i:\n",
    "        arr=arr+i\n",
    "print(arr)"
   ]
  },
  {
   "cell_type": "code",
   "execution_count": 12,
   "id": "1b5d76ae",
   "metadata": {},
   "outputs": [
    {
     "name": "stdout",
     "output_type": "stream",
     "text": [
      "original array :\n",
      "[[1 2 3]\n",
      " [4 5 6]]\n",
      "values bigger than 2 = [3 4 5 6]\n"
     ]
    }
   ],
   "source": [
    "#question 3\n",
    "import numpy as np\n",
    "array=np.array([[1,2,3],[4,5,6]])\n",
    "print(\"original array :\")\n",
    "print(array)\n",
    "print(\"values bigger than 2 =\", array[array>2])"
   ]
  },
  {
   "cell_type": "code",
   "execution_count": 9,
   "id": "0eca1ed8",
   "metadata": {},
   "outputs": [
    {
     "name": "stdout",
     "output_type": "stream",
     "text": [
      "[[ 3  4  7]\n",
      " [ 9 11 13]]\n"
     ]
    }
   ],
   "source": [
    "#question 4\n",
    "import numpy as np\n",
    "array1=np.array([[1,2,3],[4,5,6]])\n",
    "array2=np.array([[2,2,4],[5,6,7]])\n",
    "ad=np.add(array1,array2)\n",
    "print(ad)"
   ]
  },
  {
   "cell_type": "code",
   "execution_count": 27,
   "id": "c99d8af2",
   "metadata": {},
   "outputs": [
    {
     "name": "stdout",
     "output_type": "stream",
     "text": [
      "[[-1.  0.  1.]\n",
      " [-1.  0.  1.]]\n"
     ]
    }
   ],
   "source": [
    "#question 5\n",
    "import numpy as np\n",
    "array=np.array([[1,2,3],[4,5,6],])\n",
    "y=array-array.mean(axis=1, keepdims=True)\n",
    "print(y)"
   ]
  },
  {
   "cell_type": "code",
   "execution_count": 18,
   "id": "7fd750d6",
   "metadata": {},
   "outputs": [
    {
     "name": "stdout",
     "output_type": "stream",
     "text": [
      "[[1 2 3]\n",
      " [4 5 6]]\n"
     ]
    }
   ],
   "source": [
    "print(array)"
   ]
  },
  {
   "cell_type": "code",
   "execution_count": null,
   "id": "d3a9e39a",
   "metadata": {},
   "outputs": [],
   "source": []
  }
 ],
 "metadata": {
  "kernelspec": {
   "display_name": "Python 3 (ipykernel)",
   "language": "python",
   "name": "python3"
  },
  "language_info": {
   "codemirror_mode": {
    "name": "ipython",
    "version": 3
   },
   "file_extension": ".py",
   "mimetype": "text/x-python",
   "name": "python",
   "nbconvert_exporter": "python",
   "pygments_lexer": "ipython3",
   "version": "3.9.12"
  }
 },
 "nbformat": 4,
 "nbformat_minor": 5
}
